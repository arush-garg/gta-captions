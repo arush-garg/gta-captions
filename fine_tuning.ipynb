{
 "cells": [
  {
   "cell_type": "markdown",
   "id": "59078c2b",
   "metadata": {},
   "source": [
    "## Load the Model\n",
    "\n",
    "The model we will be using is GenerativeImage2Text (GIT) from Microsoft. Check out the model on [Huggingface](https://huggingface.co/microsoft/git-base). "
   ]
  },
  {
   "cell_type": "code",
   "execution_count": null,
   "id": "a0b7f6da",
   "metadata": {},
   "outputs": [],
   "source": [
    "from transformers import AutoProcessor, AutoModelForCausalLM\n",
    "import torch\n",
    "\n",
    "processor = AutoProcessor.from_pretrained(\"microsoft/git-large\")\n",
    "model = AutoModelForCausalLM.from_pretrained(\"microsoft/git-large\")\n",
    "\n",
    "if torch.cuda.is_available():\n",
    "    model.to(\"cuda\")\n",
    "elif torch.backends.mps.is_available():\n",
    "    model.to(\"mps\")\n",
    "else:\n",
    "    model.to(\"cpu\")\n",
    "print(model.device)"
   ]
  },
  {
   "cell_type": "code",
   "execution_count": null,
   "id": "2d29b69a",
   "metadata": {},
   "outputs": [],
   "source": [
    "from datasets import load_dataset\n",
    "dataset = load_dataset(\"vipulmaheshwari/GTA-Image-Captioning-Dataset\")['train']\n",
    "\n",
    "train_ds, test_ds = dataset.train_test_split(test_size=0.2).values()\n"
   ]
  },
  {
   "cell_type": "code",
   "execution_count": null,
   "id": "ce37a8d7",
   "metadata": {},
   "outputs": [],
   "source": [
    "print(f\"Train dataset size: {len(train_ds)}\")\n",
    "print(f\"Test dataset size: {len(test_ds)}\")"
   ]
  },
  {
   "cell_type": "markdown",
   "id": "5dfbb5c2",
   "metadata": {},
   "source": [
    "### Preprocess Data\n",
    "\n",
    "Now, we will preprocess the data to get it ready for the model. This involves tokenizing the text and processing the images."
   ]
  },
  {
   "cell_type": "code",
   "execution_count": null,
   "id": "c14fd9b6",
   "metadata": {},
   "outputs": [],
   "source": [
    "def preprocess_function(examples):\n",
    "    # Process images\n",
    "    image_inputs = processor(images=[x.convert(\"RGB\") for x in examples[\"image\"]], return_tensors=\"pt\")\n",
    "    \n",
    "    # Process captions\n",
    "    text_inputs = processor.tokenizer(\n",
    "        text=examples[\"text\"],\n",
    "        padding=\"max_length\",\n",
    "        truncation=True,\n",
    "        max_length=128,\n",
    "        return_tensors=\"pt\"\n",
    "    )\n",
    "    \n",
    "    # Set labels, ignoring padding\n",
    "    labels = text_inputs.input_ids.clone()\n",
    "    labels[labels == processor.tokenizer.pad_token_id] = -100\n",
    "    \n",
    "    return {\n",
    "        \"pixel_values\": image_inputs.pixel_values,\n",
    "        \"input_ids\": text_inputs.input_ids,\n",
    "        \"attention_mask\": text_inputs.attention_mask,\n",
    "        \"labels\": labels\n",
    "    }"
   ]
  },
  {
   "cell_type": "code",
   "execution_count": null,
   "id": "30919f8e",
   "metadata": {},
   "outputs": [],
   "source": [
    "import gc\n",
    "import multiprocessing\n",
    "\n",
    "try:\n",
    "\tmultiprocessing.set_start_method('spawn')\n",
    "except RuntimeError:\n",
    "\tpass  # start method has already been set\n",
    "\n",
    "processed_train_ds = train_ds.map(preprocess_function, batched=True, batch_size=4, num_proc=4, remove_columns=train_ds.column_names)\n",
    "processed_test_ds = test_ds.map(preprocess_function, batched=True, batch_size=4, num_proc=4, remove_columns=test_ds.column_names)\n",
    "\n",
    "del train_ds, test_ds\n",
    "gc.collect()"
   ]
  },
  {
   "cell_type": "code",
   "execution_count": null,
   "id": "1527f3d2",
   "metadata": {},
   "outputs": [],
   "source": [
    "print(processed_train_ds.column_names)"
   ]
  },
  {
   "cell_type": "code",
   "execution_count": null,
   "id": "951241f7",
   "metadata": {},
   "outputs": [],
   "source": [
    "frozen_layers = [\n",
    "    model.git.embeddings,\n",
    "    model.git.image_encoder.vision_model.embeddings,\n",
    "]\n",
    "\n",
    "frozen_layers.extend(model.git.image_encoder.vision_model.encoder.layers[i].self_attn for i in range(len(model.git.image_encoder.vision_model.encoder.layers)))\n",
    "frozen_layers.extend(model.git.encoder.layer[i].attention.self for i in range(len(model.git.encoder.layer)))\n",
    "\n",
    "print(f\"Freezing {len(frozen_layers)} layers\")\n",
    "for layer in frozen_layers:\n",
    "    for param in layer.parameters():\n",
    "        param.requires_grad = False"
   ]
  },
  {
   "cell_type": "markdown",
   "id": "c446a75c",
   "metadata": {},
   "source": [
    "### Set up Training"
   ]
  },
  {
   "cell_type": "code",
   "execution_count": null,
   "id": "4eb3edbc",
   "metadata": {},
   "outputs": [],
   "source": [
    "from torch.utils.data import DataLoader\n",
    "from torch.optim import AdamW\n",
    "from transformers import get_linear_schedule_with_warmup\n",
    "from tqdm.auto import tqdm\n",
    "import numpy as np\n",
    "\n",
    "# --- Training Configuration ---\n",
    "num_epochs = 5\n",
    "train_batch_size = 16\n",
    "eval_batch_size = 16\n",
    "learning_rate = 2e-4\n",
    "gradient_accumulation_steps = 1\n",
    "\n",
    "# --- DataLoaders ---\n",
    "processed_train_ds.set_format(type='torch', columns=['pixel_values', 'input_ids', 'attention_mask', 'labels'])\n",
    "processed_test_ds.set_format(type='torch', columns=['pixel_values', 'input_ids', 'attention_mask', 'labels'])\n",
    "\n",
    "train_dataloader = DataLoader(processed_train_ds, shuffle=True, batch_size=train_batch_size)\n",
    "eval_dataloader = DataLoader(processed_test_ds, batch_size=eval_batch_size)\n",
    "\n",
    "# --- Optimizer and Scheduler ---\n",
    "optimizer = AdamW(filter(lambda p: p.requires_grad, model.parameters()), lr=learning_rate)\n",
    "num_training_steps = num_epochs * len(train_dataloader)\n",
    "lr_scheduler = get_linear_schedule_with_warmup(\n",
    "    optimizer, num_warmup_steps=20, num_training_steps=num_training_steps\n",
    ")\n",
    "\n",
    "# --- Training Loop ---\n",
    "best_eval_loss = float('inf')\n",
    "progress_bar = tqdm(range(num_training_steps))\n",
    "\n",
    "for epoch in range(num_epochs):\n",
    "    model.train()\n",
    "    total_loss = 0\n",
    "    for step, batch in enumerate(train_dataloader):\n",
    "        inputs = {k: v.to(model.device) for k, v in batch.items()}\n",
    "        \n",
    "        outputs = model(**inputs)\n",
    "        loss = outputs.loss\n",
    "        loss = loss / gradient_accumulation_steps\n",
    "        \n",
    "        loss.backward()\n",
    "        \n",
    "        if (step + 1) % gradient_accumulation_steps == 0:\n",
    "            optimizer.step()\n",
    "            lr_scheduler.step()\n",
    "            optimizer.zero_grad()\n",
    "        \n",
    "        total_loss += loss.item() * gradient_accumulation_steps\n",
    "        progress_bar.update(1)\n",
    "        progress_bar.set_description(f\"Epoch {epoch+1}, Loss: {total_loss / (step + 1):.4f}\")\n",
    "\n",
    "    # --- Evaluation Loop ---\n",
    "    model.eval()\n",
    "    eval_loss = 0\n",
    "    with torch.no_grad():\n",
    "        for batch in eval_dataloader:\n",
    "            inputs = {k: v.to(model.device) for k, v in batch.items()}\n",
    "            outputs = model(**inputs)\n",
    "            eval_loss += outputs.loss.item()\n",
    "    \n",
    "    avg_eval_loss = eval_loss / len(eval_dataloader)\n",
    "    perplexity = np.exp(avg_eval_loss)\n",
    "    print(f\"\\n--- Epoch {epoch+1} Evaluation ---\")\n",
    "    print(f\"  Average Loss: {avg_eval_loss:.4f}\")\n",
    "    print(f\"  Perplexity: {perplexity:.4f}\")\n",
    "    print(\"--------------------------\")\n",
    "\n",
    "print(\"Training complete.\")"
   ]
  },
  {
   "cell_type": "markdown",
   "id": "375cb9e9",
   "metadata": {},
   "source": [
    "### Save the Model\n",
    "\n",
    "Finally, we will save the model to a directory so we can use it later."
   ]
  },
  {
   "cell_type": "code",
   "execution_count": null,
   "id": "547e3763",
   "metadata": {},
   "outputs": [],
   "source": [
    "model.save_pretrained(\"gta-captioner\")"
   ]
  }
 ],
 "metadata": {
  "kernelspec": {
   "display_name": "v_env",
   "language": "python",
   "name": "python3"
  },
  "language_info": {
   "codemirror_mode": {
    "name": "ipython",
    "version": 3
   },
   "file_extension": ".py",
   "mimetype": "text/x-python",
   "name": "python",
   "nbconvert_exporter": "python",
   "pygments_lexer": "ipython3",
   "version": "3.12.9"
  }
 },
 "nbformat": 4,
 "nbformat_minor": 5
}

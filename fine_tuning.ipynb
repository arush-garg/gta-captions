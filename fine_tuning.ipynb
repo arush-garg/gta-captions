{
 "cells": [
  {
   "cell_type": "markdown",
   "id": "59078c2b",
   "metadata": {},
   "source": [
    "## Load the Model\n",
    "\n",
    "The model we will be using is GenerativeImage2Text (GIT) from Microsoft. Check out the model on [Huggingface](https://huggingface.co/microsoft/git-base). "
   ]
  },
  {
   "cell_type": "code",
   "execution_count": 1,
   "id": "a0b7f6da",
   "metadata": {},
   "outputs": [
    {
     "name": "stderr",
     "output_type": "stream",
     "text": [
      "/home/vscode/.local/lib/python3.12/site-packages/tqdm/auto.py:21: TqdmWarning: IProgress not found. Please update jupyter and ipywidgets. See https://ipywidgets.readthedocs.io/en/stable/user_install.html\n",
      "  from .autonotebook import tqdm as notebook_tqdm\n",
      "Using a slow image processor as `use_fast` is unset and a slow processor was saved with this model. `use_fast=True` will be the default behavior in v4.52, even if the model was saved with a slow processor. This will result in minor differences in outputs. You'll still be able to use a slow processor with `use_fast=False`.\n"
     ]
    },
    {
     "name": "stdout",
     "output_type": "stream",
     "text": [
      "cuda:0\n"
     ]
    }
   ],
   "source": [
    "from transformers import AutoProcessor, AutoModelForCausalLM\n",
    "import torch\n",
    "\n",
    "processor = AutoProcessor.from_pretrained(\"microsoft/git-base\")\n",
    "model = AutoModelForCausalLM.from_pretrained(\"microsoft/git-base\")\n",
    "\n",
    "model.to(\"cuda\" if torch.cuda.is_available() else \"cpu\")\n",
    "print(model.device)"
   ]
  },
  {
   "cell_type": "code",
   "execution_count": null,
   "id": "2d29b69a",
   "metadata": {},
   "outputs": [],
   "source": [
    "from datasets import load_dataset\n",
    "dataset = load_dataset(\"vipulmaheshwari/GTA-Image-Captioning-Dataset\")['train']\n",
    "\n",
    "train_ds, test_ds = dataset.train_test_split(test_size=0.2).values()\n"
   ]
  },
  {
   "cell_type": "code",
   "execution_count": 3,
   "id": "ce37a8d7",
   "metadata": {},
   "outputs": [
    {
     "name": "stdout",
     "output_type": "stream",
     "text": [
      "Train dataset size: 3200\n",
      "Test dataset size: 800\n"
     ]
    }
   ],
   "source": [
    "print(f\"Train dataset size: {len(train_ds)}\")\n",
    "print(f\"Test dataset size: {len(test_ds)}\")"
   ]
  },
  {
   "cell_type": "markdown",
   "id": "5dfbb5c2",
   "metadata": {},
   "source": [
    "### Preprocess Data\n",
    "\n",
    "Now, we will preprocess the data to get it ready for the model. This involves tokenizing the text and processing the images."
   ]
  },
  {
   "cell_type": "code",
   "execution_count": null,
   "id": "c14fd9b6",
   "metadata": {},
   "outputs": [],
   "source": [
    "def preprocess_function(examples):\n",
    "    # Process images\n",
    "    image_inputs = processor(images=[x.convert(\"RGB\") for x in examples[\"image\"]], return_tensors=\"pt\")\n",
    "    \n",
    "    # Process captions\n",
    "    text_inputs = processor.tokenizer(\n",
    "        text=examples[\"text\"],\n",
    "        padding=\"max_length\",\n",
    "        truncation=True,\n",
    "        max_length=128,\n",
    "        return_tensors=\"pt\"\n",
    "    )\n",
    "    \n",
    "    # Set labels, ignoring padding\n",
    "    labels = text_inputs.input_ids.clone()\n",
    "    labels[labels == processor.tokenizer.pad_token_id] = -100\n",
    "    \n",
    "    return {\n",
    "        \"pixel_values\": image_inputs.pixel_values,\n",
    "        \"input_ids\": text_inputs.input_ids,\n",
    "        \"attention_mask\": text_inputs.attention_mask,\n",
    "        \"labels\": labels\n",
    "    }"
   ]
  },
  {
   "cell_type": "code",
   "execution_count": 5,
   "id": "30919f8e",
   "metadata": {},
   "outputs": [
    {
     "name": "stderr",
     "output_type": "stream",
     "text": [
      "Map (num_proc=4): 100%|██████████| 3200/3200 [00:13<00:00, 231.63 examples/s]\n",
      "Map (num_proc=4): 100%|██████████| 800/800 [00:03<00:00, 212.05 examples/s]\n"
     ]
    },
    {
     "data": {
      "text/plain": [
       "48"
      ]
     },
     "execution_count": 5,
     "metadata": {},
     "output_type": "execute_result"
    }
   ],
   "source": [
    "import gc\n",
    "import multiprocessing\n",
    "\n",
    "try:\n",
    "\tmultiprocessing.set_start_method('spawn')\n",
    "except RuntimeError:\n",
    "\tpass  # start method has already been set\n",
    "\n",
    "processed_train_ds = train_ds.map(preprocess_function, batched=True, batch_size=4, num_proc=4, remove_columns=train_ds.column_names)\n",
    "processed_test_ds = test_ds.map(preprocess_function, batched=True, batch_size=4, num_proc=4, remove_columns=test_ds.column_names)\n",
    "\n",
    "del train_ds, test_ds\n",
    "gc.collect()"
   ]
  },
  {
   "cell_type": "code",
   "execution_count": 6,
   "id": "1527f3d2",
   "metadata": {},
   "outputs": [
    {
     "name": "stdout",
     "output_type": "stream",
     "text": [
      "['pixel_values', 'input_ids', 'attention_mask', 'labels']\n"
     ]
    }
   ],
   "source": [
    "print(processed_train_ds.column_names)"
   ]
  },
  {
   "cell_type": "markdown",
   "id": "c446a75c",
   "metadata": {},
   "source": [
    "### Set up Training"
   ]
  },
  {
   "cell_type": "code",
   "execution_count": null,
   "id": "4eb3edbc",
   "metadata": {},
   "outputs": [
    {
     "name": "stderr",
     "output_type": "stream",
     "text": [
      "Epoch 1, Loss: 4.4767:   8%|▊         | 200/2400 [01:22<15:25,  2.38it/s]"
     ]
    },
    {
     "name": "stdout",
     "output_type": "stream",
     "text": [
      "\n",
      "--- Epoch 1 Evaluation ---\n",
      "  Average Loss: 3.0915\n",
      "  Perplexity: 22.0091\n",
      "--------------------------\n"
     ]
    },
    {
     "name": "stderr",
     "output_type": "stream",
     "text": [
      "Epoch 2, Loss: 2.8385:  17%|█▋        | 400/2400 [02:57<13:46,  2.42it/s]  "
     ]
    },
    {
     "name": "stdout",
     "output_type": "stream",
     "text": [
      "\n",
      "--- Epoch 2 Evaluation ---\n",
      "  Average Loss: 2.6427\n",
      "  Perplexity: 14.0509\n",
      "--------------------------\n"
     ]
    },
    {
     "name": "stderr",
     "output_type": "stream",
     "text": [
      "Epoch 3, Loss: 2.4067:  25%|██▌       | 600/2400 [04:31<12:33,  2.39it/s]  "
     ]
    },
    {
     "name": "stdout",
     "output_type": "stream",
     "text": [
      "\n",
      "--- Epoch 3 Evaluation ---\n",
      "  Average Loss: 2.4365\n",
      "  Perplexity: 11.4327\n",
      "--------------------------\n"
     ]
    },
    {
     "name": "stderr",
     "output_type": "stream",
     "text": [
      "Epoch 4, Loss: 2.1317:  33%|███▎      | 800/2400 [06:05<11:18,  2.36it/s]  "
     ]
    },
    {
     "name": "stdout",
     "output_type": "stream",
     "text": [
      "\n",
      "--- Epoch 4 Evaluation ---\n",
      "  Average Loss: 2.3308\n",
      "  Perplexity: 10.2862\n",
      "--------------------------\n"
     ]
    },
    {
     "name": "stderr",
     "output_type": "stream",
     "text": [
      "Epoch 5, Loss: 1.9237:  42%|████▏     | 1000/2400 [07:40<09:41,  2.41it/s] "
     ]
    },
    {
     "name": "stdout",
     "output_type": "stream",
     "text": [
      "\n",
      "--- Epoch 5 Evaluation ---\n",
      "  Average Loss: 2.2787\n",
      "  Perplexity: 9.7644\n",
      "--------------------------\n"
     ]
    },
    {
     "name": "stderr",
     "output_type": "stream",
     "text": [
      "Epoch 6, Loss: 1.7397:  50%|█████     | 1200/2400 [09:14<08:15,  2.42it/s]  "
     ]
    },
    {
     "name": "stdout",
     "output_type": "stream",
     "text": [
      "\n",
      "--- Epoch 6 Evaluation ---\n",
      "  Average Loss: 2.2614\n",
      "  Perplexity: 9.5961\n",
      "--------------------------\n"
     ]
    },
    {
     "name": "stderr",
     "output_type": "stream",
     "text": [
      "Epoch 7, Loss: 1.5877:  58%|█████▊    | 1400/2400 [10:48<06:50,  2.43it/s]  "
     ]
    },
    {
     "name": "stdout",
     "output_type": "stream",
     "text": [
      "\n",
      "--- Epoch 7 Evaluation ---\n",
      "  Average Loss: 2.2600\n",
      "  Perplexity: 9.5827\n",
      "--------------------------\n"
     ]
    },
    {
     "name": "stderr",
     "output_type": "stream",
     "text": [
      "Epoch 8, Loss: 1.4359:  67%|██████▋   | 1600/2400 [12:22<05:27,  2.44it/s]  "
     ]
    },
    {
     "name": "stdout",
     "output_type": "stream",
     "text": [
      "\n",
      "--- Epoch 8 Evaluation ---\n",
      "  Average Loss: 2.2739\n",
      "  Perplexity: 9.7176\n",
      "--------------------------\n"
     ]
    },
    {
     "name": "stderr",
     "output_type": "stream",
     "text": [
      "Epoch 9, Loss: 1.3030:  75%|███████▌  | 1800/2400 [13:56<04:08,  2.41it/s]"
     ]
    },
    {
     "name": "stdout",
     "output_type": "stream",
     "text": [
      "\n",
      "--- Epoch 9 Evaluation ---\n",
      "  Average Loss: 2.3054\n",
      "  Perplexity: 10.0283\n",
      "--------------------------\n"
     ]
    },
    {
     "name": "stderr",
     "output_type": "stream",
     "text": [
      "Epoch 10, Loss: 1.1716:  83%|████████▎ | 2000/2400 [15:30<02:44,  2.43it/s]"
     ]
    },
    {
     "name": "stdout",
     "output_type": "stream",
     "text": [
      "\n",
      "--- Epoch 10 Evaluation ---\n",
      "  Average Loss: 2.3439\n",
      "  Perplexity: 10.4218\n",
      "--------------------------\n"
     ]
    },
    {
     "name": "stderr",
     "output_type": "stream",
     "text": [
      "Epoch 11, Loss: 1.0538:  92%|█████████▏| 2200/2400 [17:05<01:22,  2.43it/s]"
     ]
    },
    {
     "name": "stdout",
     "output_type": "stream",
     "text": [
      "\n",
      "--- Epoch 11 Evaluation ---\n",
      "  Average Loss: 2.3827\n",
      "  Perplexity: 10.8337\n",
      "--------------------------\n"
     ]
    },
    {
     "name": "stderr",
     "output_type": "stream",
     "text": [
      "Epoch 12, Loss: 0.9443: 100%|██████████| 2400/2400 [18:39<00:00,  2.41it/s]"
     ]
    },
    {
     "name": "stdout",
     "output_type": "stream",
     "text": [
      "\n",
      "--- Epoch 12 Evaluation ---\n",
      "  Average Loss: 2.4282\n",
      "  Perplexity: 11.3388\n",
      "--------------------------\n",
      "Training complete.\n"
     ]
    }
   ],
   "source": [
    "from torch.utils.data import DataLoader\n",
    "from torch.optim import AdamW\n",
    "from transformers import get_linear_schedule_with_warmup\n",
    "from tqdm.auto import tqdm\n",
    "import numpy as np\n",
    "\n",
    "# --- Training Configuration ---\n",
    "num_epochs = 4\n",
    "train_batch_size = 16\n",
    "eval_batch_size = 16\n",
    "learning_rate = 2e-4\n",
    "gradient_accumulation_steps = 2\n",
    "\n",
    "# --- DataLoaders ---\n",
    "processed_train_ds.set_format(type='torch', columns=['pixel_values', 'input_ids', 'attention_mask', 'labels'])\n",
    "processed_test_ds.set_format(type='torch', columns=['pixel_values', 'input_ids', 'attention_mask', 'labels'])\n",
    "\n",
    "train_dataloader = DataLoader(processed_train_ds, shuffle=True, batch_size=train_batch_size)\n",
    "eval_dataloader = DataLoader(processed_test_ds, batch_size=eval_batch_size)\n",
    "\n",
    "# --- Optimizer and Scheduler ---\n",
    "optimizer = AdamW(filter(lambda p: p.requires_grad, model.parameters()), lr=learning_rate)\n",
    "num_training_steps = num_epochs * len(train_dataloader)\n",
    "lr_scheduler = get_linear_schedule_with_warmup(\n",
    "    optimizer, num_warmup_steps=20, num_training_steps=num_training_steps\n",
    ")\n",
    "\n",
    "# --- Mixed-Precision Training Scaler ---\n",
    "scaler = torch.amp.GradScaler('cuda')\n",
    "\n",
    "# --- Training Loop ---\n",
    "best_eval_loss = float('inf')\n",
    "progress_bar = tqdm(range(num_training_steps))\n",
    "\n",
    "for epoch in range(num_epochs):\n",
    "    model.train()\n",
    "    total_loss = 0\n",
    "    for step, batch in enumerate(train_dataloader):\n",
    "        inputs = {k: v.to(model.device) for k, v in batch.items()}\n",
    "        \n",
    "        with torch.amp.autocast('cuda'):\n",
    "            outputs = model(**inputs)\n",
    "            loss = outputs.loss\n",
    "            loss = loss / gradient_accumulation_steps\n",
    "        \n",
    "        scaler.scale(loss).backward()\n",
    "        \n",
    "        if (step + 1) % gradient_accumulation_steps == 0:\n",
    "            scaler.step(optimizer)\n",
    "            scaler.update()\n",
    "            lr_scheduler.step()\n",
    "            optimizer.zero_grad()\n",
    "        \n",
    "        total_loss += loss.item() * gradient_accumulation_steps\n",
    "        progress_bar.update(1)\n",
    "        progress_bar.set_description(f\"Epoch {epoch+1}, Loss: {total_loss / (step + 1):.4f}\")\n",
    "\n",
    "    # --- Evaluation Loop ---\n",
    "    model.eval()\n",
    "    eval_loss = 0\n",
    "    with torch.no_grad():\n",
    "        for batch in eval_dataloader:\n",
    "            inputs = {k: v.to(model.device) for k, v in batch.items()}\n",
    "            with torch.amp.autocast('cuda'):\n",
    "                outputs = model(**inputs)\n",
    "            eval_loss += outputs.loss.item()\n",
    "    \n",
    "    avg_eval_loss = eval_loss / len(eval_dataloader)\n",
    "    perplexity = np.exp(avg_eval_loss)\n",
    "    print(f\"\\n--- Epoch {epoch+1} Evaluation ---\")\n",
    "    print(f\"  Average Loss: {avg_eval_loss:.4f}\")\n",
    "    print(f\"  Perplexity: {perplexity:.4f}\")\n",
    "    print(\"--------------------------\")\n",
    "\n",
    "print(\"Training complete.\")"
   ]
  },
  {
   "cell_type": "markdown",
   "id": "375cb9e9",
   "metadata": {},
   "source": [
    "### Save the Model\n",
    "\n",
    "Finally, we will save the model to a directory so we can use it later."
   ]
  },
  {
   "cell_type": "code",
   "execution_count": null,
   "id": "547e3763",
   "metadata": {},
   "outputs": [],
   "source": [
    "torch.save(model.state_dict(), \"captioning-model.pth\")"
   ]
  }
 ],
 "metadata": {
  "kernelspec": {
   "display_name": "Python 3",
   "language": "python",
   "name": "python3"
  },
  "language_info": {
   "codemirror_mode": {
    "name": "ipython",
    "version": 3
   },
   "file_extension": ".py",
   "mimetype": "text/x-python",
   "name": "python",
   "nbconvert_exporter": "python",
   "pygments_lexer": "ipython3",
   "version": "3.12.11"
  }
 },
 "nbformat": 4,
 "nbformat_minor": 5
}
